{
  "cells": [
    {
      "cell_type": "markdown",
      "metadata": {
        "id": "view-in-github",
        "colab_type": "text"
      },
      "source": [
        "<a href=\"https://colab.research.google.com/github/JosiasRuiz/MarriotMNA/blob/main/ImageCoding.ipynb\" target=\"_parent\"><img src=\"https://colab.research.google.com/assets/colab-badge.svg\" alt=\"Open In Colab\"/></a>"
      ]
    },
    {
      "cell_type": "code",
      "execution_count": null,
      "metadata": {
        "id": "1uyScNPhkFjv"
      },
      "outputs": [],
      "source": [
        "#!git clone https://github.com/JosiasRuiz/MarriotMNA.git"
      ]
    },
    {
      "cell_type": "code",
      "execution_count": null,
      "metadata": {
        "id": "a_mttEQjka31"
      },
      "outputs": [],
      "source": [
        "import json\n",
        "import csv\n",
        "import base64\n",
        "import os\n",
        "import io\n",
        "from PIL import Image"
      ]
    },
    {
      "cell_type": "code",
      "execution_count": null,
      "metadata": {
        "id": "aIh8zdBrk4zo"
      },
      "outputs": [],
      "source": [
        "def decode_image(image_base64):\n",
        "\n",
        "  image_data = base64.b64decode(image_base64)\n",
        "  image = Image.open(io.BytesIO(image_data))\n",
        "\n",
        "  return image\n",
        "\n",
        "def encode_image(image_path):\n",
        "\n",
        "  with open(image_path, \"rb\") as f:\n",
        "    image_data = f.read()\n",
        "\n",
        "  image_base64 = base64.b64encode(image_data)\n",
        "  return image_base64"
      ]
    },
    {
      "cell_type": "code",
      "execution_count": 34,
      "metadata": {
        "id": "yONBdZIzlPfd"
      },
      "outputs": [],
      "source": [
        "def open_json(file_id):\n",
        "# Abrir el archivo JSON\n",
        "    with open(file_id, \"r\") as f:\n",
        "        datos = json.load(f)\n",
        "        print(datos[\"id_reservation\"])\n",
        "        imagen = datos[\"img\"]\n",
        "        print(imagen[0:23])\n",
        "        imagen = imagen[23:]\n",
        "        print(imagen[0:23])\n",
        "    return imagen"
      ]
    },
    {
      "cell_type": "code",
      "source": [
        "imagen=open_json(\"562725.json\")\n",
        "\n",
        "#print(datos.name)\n",
        "imagen = decode_image(imagen)\n",
        "imagen.show()"
      ],
      "metadata": {
        "colab": {
          "base_uri": "https://localhost:8080/"
        },
        "id": "EVBvE9Iin1my",
        "outputId": "6ee0d623-0c08-42e5-fb7d-2aec35bea347"
      },
      "execution_count": 35,
      "outputs": [
        {
          "output_type": "stream",
          "name": "stdout",
          "text": [
            "562725\n",
            "data:image/jpeg;base64,\n",
            "/9j/4AAQSkZJRgABAQAAAQA\n"
          ]
        }
      ]
    },
    {
      "cell_type": "code",
      "execution_count": null,
      "metadata": {
        "id": "bxFGjsRFlD1n"
      },
      "outputs": [],
      "source": [
        "if __name__ == \"__main__\":\n",
        "  folder_path = os.getcwd()\n",
        "  #csv_file_path = \"Images_64.csv\"\n",
        "  #Code_Image()\n",
        "  #encode_images(folder_path, csv_file_path)\n",
        "  open_json(\"562725.json\")"
      ]
    }
  ],
  "metadata": {
    "colab": {
      "provenance": [],
      "authorship_tag": "ABX9TyMi2XLe9bdqnnGoE9G3eB3P",
      "include_colab_link": true
    },
    "kernelspec": {
      "display_name": "Python 3",
      "name": "python3"
    },
    "language_info": {
      "name": "python"
    }
  },
  "nbformat": 4,
  "nbformat_minor": 0
}